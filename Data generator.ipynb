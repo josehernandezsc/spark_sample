{
    "cells": [
        {
            "metadata": {},
            "cell_type": "code",
            "source": "# @hidden_cell\n# The project token is an authorization token that is used to access project resources like data sources, connections, and used by platform APIs.\nfrom project_lib import Project\nproject = Project(project_id='a92ebd05-8be4-4c8f-8f61-c21d319e8a85', project_access_token='p-475f8c824417caa2ec2e40f6d092d8307e642f86')\npc = project.project_context\n",
            "execution_count": 1,
            "outputs": []
        },
        {
            "metadata": {},
            "cell_type": "code",
            "source": "import matplotlib.pyplot as plt\nimport numpy as np\nimport pandas as pd\n\n",
            "execution_count": 2,
            "outputs": []
        },
        {
            "metadata": {},
            "cell_type": "code",
            "source": "# n: number of centroids\n# sigma: number of sigma deviations from each centroid\n# d: number of dimensions\n# num_r: number of rows/samples per category\n\n# This multivariate Gaussian classes generator uses a single coordinate as component for the mean between classes.\n# For example, variables living in R^10 with two classes will have coordinates X0 (for class 1) and X1 (for class 2) to describe their mean.\n# Other dimensions would be just noise centered at 0.\n\ndef gen_classes(n,sigma,d,num_r):\n    x=sigma/np.sqrt(d)\n    means=np.multiply(np.identity(d),x)\n    \n    nd_noise=[]\n    var_matrix=np.identity(d)\n    obs_matrix=np.zeros(d+1)\n    for i in range(n):\n        \n        obs=np.random.multivariate_normal(means[i],var_matrix,num_r)\n        obs=np.column_stack((obs,np.multiply(np.ones(num_r),i)))\n        \n        obs_matrix = np.vstack((obs_matrix,obs))\n        \n    obs_matrix=obs_matrix[1:]\n    col_names=[\"X\"+str(i) for i in range(d)]\n    col_names.append(\"cat\")\n    return obs_matrix,col_names\n\n# This multivariate Gaussian classes generator uses is ad hoc for just two classes with d dimensions. To avoid excesive noise, mean will be\n# described by more than just one coordinate.\n\n# Added pr parameter: fraction of significant covariates. For example: if pr=0.9, then 90% of the covariates will be centered in the mean,\n# the remainding will be centered at 0, being pure noise.\n\ndef gen_classes_two(sigma,d,num_r,pr):\n    x=sigma/np.sqrt(d)\n    ones_vec=np.random.binomial(1,pr,d)\n    means1=np.multiply(ones_vec,x)\n    means2=np.multiply(ones_vec,-x)\n    means=np.vstack((means1,means2))\n    nd_noise=[]\n    var_matrix=np.identity(d)\n    obs_matrix=np.zeros(d+1)\n    for i in range(2):\n        \n        obs=np.random.multivariate_normal(means[i],var_matrix,num_r)\n        obs=np.column_stack((obs,np.multiply(np.ones(num_r),i)))\n        \n        obs_matrix = np.vstack((obs_matrix,obs))\n        \n    obs_matrix=obs_matrix[1:]\n    col_names=[\"X\"+str(i) for i in range(d)]\n    col_names.append(\"cat\")\n    return obs_matrix,col_names",
            "execution_count": 3,
            "outputs": []
        },
        {
            "metadata": {},
            "cell_type": "code",
            "source": "# Matrix of covariates and responses for classes >> 2 (near d)\n\n#test,names=gen_classes(2,5,2500,30000)",
            "execution_count": 4,
            "outputs": []
        },
        {
            "metadata": {},
            "cell_type": "code",
            "source": "# Matrix of covariates and responses for 2 classes\n\n\ntest,names=gen_classes_two(5,1500,25000,0.8)",
            "execution_count": 5,
            "outputs": []
        },
        {
            "metadata": {},
            "cell_type": "raw",
            "source": "plt.scatter(test.T.tolist()[0][:20],test.T.tolist()[1][:20])\nplt.scatter(test.T.tolist()[0][20:],test.T.tolist()[1][20:])"
        },
        {
            "metadata": {},
            "cell_type": "raw",
            "source": "from mpl_toolkits import mplot3d\n\n\nfig = plt.figure()\nax = plt.axes(projection='3d')\nax.scatter3D(test.T.tolist()[0][:20],test.T.tolist()[1][:20],test.T.tolist()[2][:20])\nax.scatter3D(test.T.tolist()[0][20:40],test.T.tolist()[1][20:40],test.T.tolist()[2][20:40])\nax.scatter3D(test.T.tolist()[0][40:],test.T.tolist()[1][40:],test.T.tolist()[2][40:])"
        },
        {
            "metadata": {},
            "cell_type": "raw",
            "source": "#creating spark dataframe\nspark_df=spark.createDataFrame(pd.DataFrame(test,columns=names))\n#spark_df.show()"
        },
        {
            "metadata": {},
            "cell_type": "raw",
            "source": "\n\nprint((spark_df.count(), len(spark_df.columns)))\n"
        },
        {
            "metadata": {},
            "cell_type": "code",
            "source": "df=pd.DataFrame(test,columns=names)",
            "execution_count": 6,
            "outputs": []
        },
        {
            "metadata": {},
            "cell_type": "code",
            "source": "project.save_data(data=df.to_csv(index=False),file_name='big_dataset.csv',overwrite=True)",
            "execution_count": 7,
            "outputs": [
                {
                    "output_type": "execute_result",
                    "execution_count": 7,
                    "data": {
                        "text/plain": "{'file_name': 'big_dataset.csv',\n 'message': 'File saved to project storage.',\n 'bucket_name': 'sbssparktest-donotdelete-pr-o2cqjfwqogiwri',\n 'asset_id': 'b05b04a1-60c4-405f-ba9d-8b420f1e922d'}"
                    },
                    "metadata": {}
                }
            ]
        },
        {
            "metadata": {},
            "cell_type": "raw",
            "source": "print(\"X0-1: \",df[\"X0\"][:30].mean())\nprint(\"X0-2: \",df[\"X0\"][30:].mean())\nprint(\"X1-1: \",df[\"X1\"][:30].mean())\nprint(\"X1-2: \",df[\"X1\"][30:].mean())\nprint(\"X2-1: \",df[\"X2\"][:30].mean())\nprint(\"X2-2: \",df[\"X2\"][30:].mean())\nprint(\"X3-1: \",df[\"X3\"][:30].mean())\nprint(\"X3-2: \",df[\"X3\"][30:].mean())\nprint(\"X4-1: \",df[\"X4\"][:30].mean())\nprint(\"X4-2: \",df[\"X4\"][30:].mean())"
        },
        {
            "metadata": {},
            "cell_type": "code",
            "source": "",
            "execution_count": null,
            "outputs": []
        },
        {
            "metadata": {},
            "cell_type": "code",
            "source": "",
            "execution_count": null,
            "outputs": []
        },
        {
            "metadata": {},
            "cell_type": "code",
            "source": "",
            "execution_count": null,
            "outputs": []
        }
    ],
    "metadata": {
        "kernelspec": {
            "name": "python3",
            "display_name": "Python 3.6",
            "language": "python"
        },
        "language_info": {
            "name": "python",
            "version": "3.6.8",
            "mimetype": "text/x-python",
            "codemirror_mode": {
                "name": "ipython",
                "version": 3
            },
            "pygments_lexer": "ipython3",
            "nbconvert_exporter": "python",
            "file_extension": ".py"
        }
    },
    "nbformat": 4,
    "nbformat_minor": 1
}